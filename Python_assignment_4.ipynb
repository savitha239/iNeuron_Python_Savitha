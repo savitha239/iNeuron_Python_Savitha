{
 "cells": [
  {
   "cell_type": "code",
   "execution_count": null,
   "id": "ec90314c",
   "metadata": {},
   "outputs": [],
   "source": [
    "#1.1 Write a Python Program(with class concepts) to find the area of the triangle using the below formula.\n",
    "#area = (s*(s-a)*(s-b)*(s-c)) ** 0.5\n",
    "#Function to take the length of the sides of triangle from user should be defined in the parent class \n",
    "#and function to calculate the area should be defined in subclass.\n",
    "\n",
    "#1.2 Write a function filter_long_words() that takes a list of words and an integer n and returns the \n",
    "#list of words that are longer than n.\n",
    "\n",
    "#2.1 Write a Python program using function concept that maps list of words into a list of integers \n",
    "# representing the lengths of the corresponding words.\n",
    "#Hint: If a list [ ab,cde,erty] is passed on to the python function output should come as [2,3,4] \n",
    "#Here 2,3 and 4 are the lengths of the words in the list.\n",
    "\n",
    "#2.2 Write a Python function which takes a character (i.e. a string of length 1) and returns True if it is a vowel, \n",
    "#False otherwise."
   ]
  },
  {
   "cell_type": "code",
   "execution_count": 30,
   "id": "5db6e369",
   "metadata": {},
   "outputs": [
    {
     "name": "stdout",
     "output_type": "stream",
     "text": [
      "Area of a triangle :  81.33265027035576\n"
     ]
    }
   ],
   "source": [
    "#1.1 Write a Python Program(with class concepts) to find the area of the triangle using the below formula.\n",
    "#area = (s*(s-a)*(s-b)*(s-c)) ** 0.5\n",
    "#Function to take the length of the sides of triangle from user should be defined in the parent class \n",
    "#and function to calculate the area should be defined in subclass.\n",
    "\n",
    "class parent_sides_of_triangle:\n",
    "    def __init__(self,a,b,c):\n",
    "        self.a = a\n",
    "        self.b = b\n",
    "        self.c = c\n",
    "        \n",
    "class subclass_area(parent_sides_of_triangle):\n",
    "    def find_the_area(self):\n",
    "        # formula => area = (s*(s-a)*(s-b)*(s-c)) ** 0.5\n",
    "        # s= semiperimeter = (a+b+c)/2\n",
    "        \n",
    "        s = (self.a+self.b+self.c)/2\n",
    "        area = (s*(s-self.a)*(s-self.b)*(s-self.c)) ** 0.5\n",
    "        \n",
    "        return(area)\n",
    "    \n",
    "obj = subclass_area(12,14,16)\n",
    "\n",
    "print(\"Area of a triangle : \", obj.find_the_area())"
   ]
  },
  {
   "cell_type": "code",
   "execution_count": 21,
   "id": "1d55cb26",
   "metadata": {},
   "outputs": [
    {
     "name": "stdout",
     "output_type": "stream",
     "text": [
      "['dgdfgdfg', 'ertertert', 'qwerty']\n"
     ]
    }
   ],
   "source": [
    "#1.2 Write a function filter_long_words() that takes a list of words and an integer n and returns the \n",
    "#list of words that are longer than n.\n",
    "\n",
    "def filter_long_words(list_of_words, n):\n",
    "#list_of_words = ['a','ab','abc','dgdfgdfg','ertertert','asdf','qwerty']\n",
    "#n = 0\n",
    "    list_words_longer_than_n = []\n",
    "\n",
    "    for i in range(len(list_of_words)):\n",
    "        if len(list_of_words[i]) > n :\n",
    "            list_words_longer_than_n.append(list_of_words[i])\n",
    "        \n",
    "    print(list_words_longer_than_n)\n",
    "    \n",
    "filter_long_words(['a','ab','abc','dgdfgdfg','ertertert','asdf','qwerty'],4)"
   ]
  },
  {
   "cell_type": "code",
   "execution_count": 15,
   "id": "905297a7",
   "metadata": {},
   "outputs": [
    {
     "name": "stdout",
     "output_type": "stream",
     "text": [
      "[3, 5, 2, 4, 1]\n"
     ]
    }
   ],
   "source": [
    "#2.1 Write a Python program using function concept that maps list of words into a list of integers \n",
    "# representing the lengths of the corresponding words.\n",
    "#Hint: If a list [ ab,cde,erty] is passed on to the python function output should come as [2,3,4] \n",
    "#Here 2,3 and 4 are the lengths of the words in the list.\n",
    "\n",
    "def list_item_length(input_list):\n",
    "    output_list = []\n",
    "    \n",
    "    for i in range(len(input_list)):\n",
    "        output_list.append(len(input_list[i]))\n",
    "        \n",
    "    print(output_list)\n",
    "    \n",
    "list_item_length([\"abc\",\"abcde\",\"ab\",\"abcd\",\"a\"])"
   ]
  },
  {
   "cell_type": "code",
   "execution_count": 9,
   "id": "b3a392fc",
   "metadata": {},
   "outputs": [
    {
     "name": "stdout",
     "output_type": "stream",
     "text": [
      "Pass a string of length 1 to the function.\n",
      "True : e\n",
      "False : z\n"
     ]
    }
   ],
   "source": [
    "#2.2 Write a Python function which takes a character (i.e. a string of length 1) and returns True if it is a vowel, \n",
    "#False otherwise.\n",
    "\n",
    "vowels = ['a','e','i','o','u']\n",
    "\n",
    "def Fn_vowel_consonant(par):\n",
    "    if len(par) != 1:\n",
    "        print(\"Pass a string of length 1 to the function.\")\n",
    "    elif str(par) in vowels:\n",
    "        print('True :', str(par))\n",
    "    else:\n",
    "        print('False :', str(par))\n",
    "        \n",
    "Fn_vowel_consonant('1i')\n",
    "Fn_vowel_consonant('e')\n",
    "Fn_vowel_consonant('z')"
   ]
  }
 ],
 "metadata": {
  "kernelspec": {
   "display_name": "Python 3",
   "language": "python",
   "name": "python3"
  },
  "language_info": {
   "codemirror_mode": {
    "name": "ipython",
    "version": 3
   },
   "file_extension": ".py",
   "mimetype": "text/x-python",
   "name": "python",
   "nbconvert_exporter": "python",
   "pygments_lexer": "ipython3",
   "version": "3.8.8"
  }
 },
 "nbformat": 4,
 "nbformat_minor": 5
}
