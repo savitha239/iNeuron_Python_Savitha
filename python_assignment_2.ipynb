{
 "cells": [
  {
   "cell_type": "code",
   "execution_count": null,
   "id": "511b53c1",
   "metadata": {},
   "outputs": [],
   "source": [
    "# 1. Create the below pattern using nested for loop in Python.\n",
    "# 2. Write a Python program to reverse a word after accepting the input from the user.\n",
    "# Input word: ineuron\n",
    "# Output: norueni"
   ]
  },
  {
   "cell_type": "code",
   "execution_count": 25,
   "id": "fb86bdfb",
   "metadata": {},
   "outputs": [
    {
     "name": "stdout",
     "output_type": "stream",
     "text": [
      "* \r\n",
      "* * \r\n",
      "* * * \r\n",
      "* * * * \r\n",
      "* * * * * \r\n",
      "* * * * \r\n",
      "* * * \r\n",
      "* * \r\n",
      "* \r\n",
      "\r\n",
      "\r\n"
     ]
    }
   ],
   "source": [
    "# 1. Create the below pattern using nested for loop in Python.\n",
    "# *\n",
    "# * *\n",
    "# * * *\n",
    "# * * * *\n",
    "# * * * * *\n",
    "# * * * *\n",
    "# * * *\n",
    "# * *\n",
    "# *\n",
    "\n",
    "for i in range(5):\n",
    "    #print(\"I value :\", i)\n",
    "    for j in range(i+1):\n",
    "        #print(\"J value :\", j)\n",
    "        print(\"* \", end=\"\")\n",
    "    print(\"\\r\")\n",
    "    \n",
    "for i in reversed(range(6)):\n",
    "    for k in reversed(range(i-1)):\n",
    "        #print(\"k\")\n",
    "        print(\"* \", end=\"\")\n",
    "    print(\"\\r\")"
   ]
  },
  {
   "cell_type": "code",
   "execution_count": 26,
   "id": "93011f10",
   "metadata": {},
   "outputs": [
    {
     "name": "stdout",
     "output_type": "stream",
     "text": [
      "Enter a word :ineuron\n",
      "Reversed word is : norueni\n"
     ]
    }
   ],
   "source": [
    "# 2. Write a Python program to reverse a word after accepting the input from the user.\n",
    "# Input word: ineuron\n",
    "# Output: norueni\n",
    "\n",
    "input_word = str(input(\"Enter a word :\"))\n",
    "\n",
    "print(\"Reversed word is :\", input_word[::-1])"
   ]
  }
 ],
 "metadata": {
  "kernelspec": {
   "display_name": "Python 3",
   "language": "python",
   "name": "python3"
  },
  "language_info": {
   "codemirror_mode": {
    "name": "ipython",
    "version": 3
   },
   "file_extension": ".py",
   "mimetype": "text/x-python",
   "name": "python",
   "nbconvert_exporter": "python",
   "pygments_lexer": "ipython3",
   "version": "3.8.8"
  }
 },
 "nbformat": 4,
 "nbformat_minor": 5
}
